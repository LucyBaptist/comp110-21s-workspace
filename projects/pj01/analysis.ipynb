{
 "metadata": {
  "language_info": {
   "codemirror_mode": {
    "name": "ipython",
    "version": 3
   },
   "file_extension": ".py",
   "mimetype": "text/x-python",
   "name": "python",
   "nbconvert_exporter": "python",
   "pygments_lexer": "ipython3",
   "version": 3
  },
  "orig_nbformat": 2
 },
 "nbformat": 4,
 "nbformat_minor": 2,
 "cells": [
  {
   "source": [
    "## Hypothesis: Students who go to office hours more often for each assignment think that programming is effective"
   ],
   "cell_type": "markdown",
   "metadata": {}
  },
  {
   "source": [
    "### I will convert the csv into a table with columns"
   ],
   "cell_type": "markdown",
   "metadata": {}
  },
  {
   "cell_type": "code",
   "execution_count": null,
   "metadata": {},
   "outputs": [],
   "source": [
    "from data_utils import read_csv_rows, columnar\n",
    "data_rows: list[dict[str, str]] = read_csv_rows('../../data/survey.csv')\n",
    "columns: dict[str, list[str]]"
   ]
  },
  {
   "source": [
    "### I will select the columns for offuce hour attendance and is programming effective"
   ],
   "cell_type": "markdown",
   "metadata": {}
  }
 ]
}