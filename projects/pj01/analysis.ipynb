{
 "metadata": {
  "language_info": {
   "codemirror_mode": {
    "name": "ipython",
    "version": 3
   },
   "file_extension": ".py",
   "mimetype": "text/x-python",
   "name": "python",
   "nbconvert_exporter": "python",
   "pygments_lexer": "ipython3",
   "version": "3.9.2-final"
  },
  "orig_nbformat": 2,
  "kernelspec": {
   "name": "python392jvsc74a57bd0ba26e295a4de51839b96d2a03ce4831d17fe2c61bdcf809c397b098b55d8bf3a",
   "display_name": "Python 3.9.2 64-bit"
  },
  "metadata": {
   "interpreter": {
    "hash": "ba26e295a4de51839b96d2a03ce4831d17fe2c61bdcf809c397b098b55d8bf3a"
   }
  }
 },
 "nbformat": 4,
 "nbformat_minor": 2,
 "cells": [
  {
   "source": [
    "## Hypothesis: Students who go to office hours more often for each assignment think that programming is effective"
   ],
   "cell_type": "markdown",
   "metadata": {}
  },
  {
   "cell_type": "code",
   "execution_count": 1,
   "metadata": {},
   "outputs": [],
   "source": [
    "%reload_ext autoreload\n",
    "%autoreload 2"
   ]
  },
  {
   "source": [
    "### I will convert the csv into a table with columns"
   ],
   "cell_type": "markdown",
   "metadata": {}
  },
  {
   "cell_type": "code",
   "execution_count": 2,
   "metadata": {},
   "outputs": [],
   "source": [
    "from data_utils import read_csv_rows, columnar\n",
    "data_rows: list[dict[str, str]] = read_csv_rows('../../data/survey.csv')\n",
    "columns: dict[str, list[str]] = columnar(data_rows)"
   ]
  },
  {
   "source": [
    "### I will select the columns for office hour attendance and is programming effective"
   ],
   "cell_type": "markdown",
   "metadata": {}
  },
  {
   "cell_type": "code",
   "execution_count": 8,
   "metadata": {},
   "outputs": [
    {
     "output_type": "stream",
     "name": "stdout",
     "text": [
      "{'oh_visits': ['2', '5', '5', '0', '0']}\n{'programming_effective': ['3', '3', '3', '6', '6']}\n"
     ]
    }
   ],
   "source": [
    "from data_utils import head, select\n",
    "oh_table: dict[str, list[int]] = select(columns, [\"oh_visits\"])\n",
    "print(head(oh_table, 5))\n",
    "program_effect_table: dict[str, list[int]] = select(columns, [\"programming_effective\"])\n",
    "print(head(program_effect_table, 5))\n"
   ]
  },
  {
   "source": [
    "### I will separate office hour visits based on whether students go to them (value greater than 0) or not (value of 0)"
   ],
   "cell_type": "markdown",
   "metadata": {}
  },
  {
   "cell_type": "code",
   "execution_count": 15,
   "metadata": {},
   "outputs": [],
   "source": [
    "def mask(dct: dict[str, list[int]], val: int) -> list[bool]:\n",
    "    result: list[bool] = []\n",
    "    lst: list[int] = dct[\"oh_visits\"]\n",
    "    i: int = 0\n",
    "    while i < len(lst):\n",
    "        result.append(lst[i] != val)\n",
    "        i += 1\n",
    "    return result\n",
    "\n",
    "oh_attended: list[bool] = mask(oh_table, 0)\n"
   ]
  },
  {
   "source": [
    "### I will make a list of the how effective people who go to office hours think programming exercises are"
   ],
   "cell_type": "markdown",
   "metadata": {}
  },
  {
   "cell_type": "code",
   "execution_count": null,
   "metadata": {},
   "outputs": [],
   "source": [
    "def masked()"
   ]
  },
  {
   "source": [
    "### I will make a list of how effective people who don't go to office hours think programming exercises are"
   ],
   "cell_type": "markdown",
   "metadata": {}
  }
 ]
}