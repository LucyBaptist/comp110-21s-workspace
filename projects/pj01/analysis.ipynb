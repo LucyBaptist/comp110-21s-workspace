{
 "metadata": {
  "language_info": {
   "codemirror_mode": {
    "name": "ipython",
    "version": 3
   },
   "file_extension": ".py",
   "mimetype": "text/x-python",
   "name": "python",
   "nbconvert_exporter": "python",
   "pygments_lexer": "ipython3",
   "version": "3.9.2-final"
  },
  "orig_nbformat": 2,
  "kernelspec": {
   "name": "python392jvsc74a57bd0ba26e295a4de51839b96d2a03ce4831d17fe2c61bdcf809c397b098b55d8bf3a",
   "display_name": "Python 3.9.2 64-bit"
  },
  "metadata": {
   "interpreter": {
    "hash": "ba26e295a4de51839b96d2a03ce4831d17fe2c61bdcf809c397b098b55d8bf3a"
   }
  }
 },
 "nbformat": 4,
 "nbformat_minor": 2,
 "cells": [
  {
   "source": [
    "## Hypothesis: Students who go to office hours more often for each assignment think that programming is effective"
   ],
   "cell_type": "markdown",
   "metadata": {}
  },
  {
   "cell_type": "code",
   "execution_count": 47,
   "metadata": {},
   "outputs": [],
   "source": [
    "%reload_ext autoreload\n",
    "%autoreload 2"
   ]
  },
  {
   "source": [
    "### I will convert the csv into a table with columns"
   ],
   "cell_type": "markdown",
   "metadata": {}
  },
  {
   "cell_type": "code",
   "execution_count": 48,
   "metadata": {},
   "outputs": [],
   "source": [
    "from data_utils import read_csv_rows, columnar\n",
    "data_rows: list[dict[str, int]] = read_csv_rows('../../data/survey.csv')\n",
    "columns: dict[str, list[int]] = columnar(data_rows)"
   ]
  },
  {
   "source": [
    "### I will select the columns for office hour attendance and is programming effective"
   ],
   "cell_type": "markdown",
   "metadata": {}
  },
  {
   "cell_type": "code",
   "execution_count": 49,
   "metadata": {},
   "outputs": [
    {
     "output_type": "stream",
     "name": "stdout",
     "text": [
      "{'oh_visits': ['2', '5', '5', '0', '0']}\n{'programming_effective': ['3', '3', '3', '6', '6']}\n"
     ]
    }
   ],
   "source": [
    "from data_utils import head, select\n",
    "oh_table: dict[str, list[int]] = select(columns, [\"oh_visits\"])\n",
    "print(head(oh_table, 5))\n",
    "program_effect_table: dict[str, list[int]] = select(columns, [\"programming_effective\"])\n",
    "print(head(program_effect_table, 5))\n"
   ]
  },
  {
   "source": [
    "### I will convert these into lists of numbers"
   ],
   "cell_type": "markdown",
   "metadata": {}
  },
  {
   "cell_type": "code",
   "execution_count": 50,
   "metadata": {},
   "outputs": [],
   "source": [
    "def num_list(dct: dict[str, list[int]], val: str) -> list[int]:\n",
    "    result: list[int] = []\n",
    "    lst: list[str] = dct[val]\n",
    "    i: int = 0\n",
    "    while i < len(lst):\n",
    "        if lst[i] == \"0\":\n",
    "            result.append(0)\n",
    "        if lst[i] == \"1\":\n",
    "            result.append(1)\n",
    "        if lst[i] == \"2\":\n",
    "            result.append(2)\n",
    "        if lst[i] == \"3\":\n",
    "            result.append(3)\n",
    "        if lst[i] == \"4\":\n",
    "            result.append(4)\n",
    "        if lst[i] == \"5\":\n",
    "            result.append(5)\n",
    "        if lst[i] == \"6\":\n",
    "            result.append(6)\n",
    "        if lst[i] == \"7\":\n",
    "            result.append(7)\n",
    "        i += 1\n",
    "    return result\n",
    "\n",
    "\n",
    "pro_eff_lst: list[int] = num_list(program_effect_table, \"programming_effective\")\n",
    "oh_vis_lst: list[int] = num_list(oh_table, \"oh_visits\")"
   ]
  },
  {
   "source": [
    "### I will separate office hour visits based on whether students go to them (value greater than 0) or not (value of 0)"
   ],
   "cell_type": "markdown",
   "metadata": {}
  },
  {
   "cell_type": "code",
   "execution_count": 51,
   "metadata": {},
   "outputs": [],
   "source": [
    "def mask(lst: list[int]) -> list[bool]:\n",
    "    result: list[bool] = []\n",
    "    i: int = 0\n",
    "    while i < len(lst):\n",
    "        t_f: bool = lst[i] != \"0\"\n",
    "        result.append(t_f)\n",
    "        i += 1\n",
    "    return result\n",
    "\n",
    "\n",
    "oh_attended: list[bool] = mask(oh_vis_lst)"
   ]
  },
  {
   "source": [
    "### I will make a list of the how effective people who go to office hours think programming exercises are"
   ],
   "cell_type": "markdown",
   "metadata": {}
  },
  {
   "cell_type": "code",
   "execution_count": 52,
   "metadata": {},
   "outputs": [],
   "source": [
    "def masked(lst: list[int], msk: list[bool]) -> list[int]:\n",
    "    result: list[int] = []\n",
    "    i: int = 0\n",
    "    while i < len(lst):\n",
    "        if msk[i] == True:\n",
    "            result.append(lst[i])\n",
    "        i += 1\n",
    "    return result\n",
    "\n",
    "\n",
    "effective_oh_t: list[int] = masked(pro_eff_lst, oh_vis_lst)"
   ]
  },
  {
   "source": [
    "### I will make a list of how effective people who don't go to office hours think programming exercises are"
   ],
   "cell_type": "markdown",
   "metadata": {}
  },
  {
   "cell_type": "code",
   "execution_count": 53,
   "metadata": {},
   "outputs": [],
   "source": [
    "def masked_2(lst: list[int], msk: list[bool]) -> list[int]:\n",
    "    result: list[int] = []\n",
    "    i: int = 0\n",
    "    while i < len(lst):\n",
    "        if msk[i] == False:\n",
    "            result.append(lst[i])\n",
    "        i += 1\n",
    "    return result\n",
    "\n",
    "\n",
    "effective_oh_f: list[int] = masked_2(pro_eff_lst, oh_vis_lst)"
   ]
  },
  {
   "source": [
    "### I will now find the mean value for each of the two lists established previously"
   ],
   "cell_type": "markdown",
   "metadata": {}
  },
  {
   "cell_type": "code",
   "execution_count": 54,
   "metadata": {},
   "outputs": [
    {
     "output_type": "stream",
     "name": "stdout",
     "text": [
      "6.1171875\n6.37956204379562\n"
     ]
    }
   ],
   "source": [
    "def mean(lst: list[int]) -> float:\n",
    "    return sum(lst) / len(lst)\n",
    "\n",
    "\n",
    "mean_t: float = mean(effective_oh_t)\n",
    "mean_f: float = mean(effective_oh_f)\n",
    "print(mean_t)\n",
    "print(mean_f)\n"
   ]
  },
  {
   "source": [
    "### I will graph the results for the amount of each level of effectiveness for whether or not students attended office hours."
   ],
   "cell_type": "markdown",
   "metadata": {}
  },
  {
   "cell_type": "code",
   "execution_count": null,
   "metadata": {},
   "outputs": [],
   "source": []
  }
 ]
}